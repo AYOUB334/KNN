{
  "nbformat": 4,
  "nbformat_minor": 0,
  "metadata": {
    "colab": {
      "provenance": []
    },
    "kernelspec": {
      "name": "python3",
      "display_name": "Python 3"
    },
    "language_info": {
      "name": "python"
    }
  },
  "cells": [
    {
      "cell_type": "markdown",
      "source": [
        "1. Séparer les données entre apprentissage et test (66% / 34%)"
      ],
      "metadata": {
        "id": "uZN_HJhxhFzR"
      }
    },
    {
      "cell_type": "code",
      "execution_count": 3,
      "metadata": {
        "id": "4rs_lyghg6ny"
      },
      "outputs": [],
      "source": [
        "import random\n",
        "\n",
        "def split_data(data, train_ratio=0.66):\n",
        "    data_copy = data.copy()\n",
        "    random.shuffle(data_copy)\n",
        "    split_point = int(len(data_copy) * train_ratio)\n",
        "    train_set = data_copy[:split_point]\n",
        "    test_set = data_copy[split_point:]\n",
        "    return train_set, test_set"
      ]
    },
    {
      "cell_type": "markdown",
      "source": [
        "2. Calcul de distance (Euclidienne et Manhattan)"
      ],
      "metadata": {
        "id": "mtFk_VcKhS2U"
      }
    },
    {
      "cell_type": "code",
      "source": [
        "import math\n",
        "\n",
        "def euclidean_distance(a, b):\n",
        "    return math.sqrt((a['gueule'] - b['gueule'])**2 + (a['taille'] - b['taille'])**2)"
      ],
      "metadata": {
        "id": "acoxsmcBhg6P"
      },
      "execution_count": 5,
      "outputs": []
    },
    {
      "cell_type": "markdown",
      "source": [
        "      b) Distance de Manhattan :"
      ],
      "metadata": {
        "id": "0dDR2VeThyFD"
      }
    },
    {
      "cell_type": "code",
      "source": [
        "def manhattan_distance(a, b):\n",
        "    return abs(a['gueule'] - b['gueule']) + abs(a['taille'] - b['taille'])"
      ],
      "metadata": {
        "id": "TlW9_mIZh4QJ"
      },
      "execution_count": 6,
      "outputs": []
    },
    {
      "cell_type": "markdown",
      "source": [
        "3. Fonction pour calculer les distances d’un test par rapport au train"
      ],
      "metadata": {
        "id": "FcCFXxqBiDOi"
      }
    },
    {
      "cell_type": "code",
      "source": [
        "def compute_all_distances(test_sample, train_set, distance_func):\n",
        "    distances = []\n",
        "    for train_sample in train_set:\n",
        "        d = distance_func(test_sample, train_sample)\n",
        "        distances.append((d, train_sample))\n",
        "    return distances"
      ],
      "metadata": {
        "id": "IFj5W5g3iG9x"
      },
      "execution_count": 7,
      "outputs": []
    },
    {
      "cell_type": "markdown",
      "source": [
        "4. Trier les distances et garder les k plus proches"
      ],
      "metadata": {
        "id": "K7Gh5tqXiMFn"
      }
    },
    {
      "cell_type": "code",
      "source": [
        "def get_k_nearest_neighbors(distances, k):\n",
        "    distances.sort(key=lambda x: x[0])  # sort by distance\n",
        "    return distances[:k]\n"
      ],
      "metadata": {
        "id": "WXjXJiuXiLgn"
      },
      "execution_count": 8,
      "outputs": []
    },
    {
      "cell_type": "markdown",
      "source": [
        "5. Prédire la classe majoritaire parmi les k voisins"
      ],
      "metadata": {
        "id": "lWsHsYXXiSL9"
      }
    },
    {
      "cell_type": "code",
      "source": [
        "from collections import Counter\n",
        "\n",
        "def predict_class(neighbors):\n",
        "    classes = [sample['espece'] for _, sample in neighbors]\n",
        "    most_common = Counter(classes).most_common(1)[0][0]\n",
        "    return most_common\n"
      ],
      "metadata": {
        "id": "G9UiKK1QiWPT"
      },
      "execution_count": 9,
      "outputs": []
    },
    {
      "cell_type": "markdown",
      "source": [
        " 6. Fonction complète de prédiction sur un échantillon de test"
      ],
      "metadata": {
        "id": "gE-OH42KiZPn"
      }
    },
    {
      "cell_type": "code",
      "source": [
        "def knn_predict(test_sample, train_set, k, distance_func):\n",
        "    distances = compute_all_distances(test_sample, train_set, distance_func)\n",
        "    neighbors = get_k_nearest_neighbors(distances, k)\n",
        "    return predict_class(neighbors)\n"
      ],
      "metadata": {
        "id": "5vBxmMppicov"
      },
      "execution_count": 10,
      "outputs": []
    }
  ]
}